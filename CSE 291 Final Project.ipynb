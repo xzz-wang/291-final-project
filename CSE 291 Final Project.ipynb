{
 "cells": [
  {
   "cell_type": "markdown",
   "metadata": {},
   "source": [
    "# CSE 291I Final Project\n",
    "Xuezheng Wang"
   ]
  },
  {
   "cell_type": "code",
   "execution_count": null,
   "metadata": {
    "scrolled": true
   },
   "outputs": [],
   "source": [
    "import numpy as np\n",
    "import matplotlib.pyplot as plt\n",
    "import torch\n",
    "import torch.nn.functional as F\n",
    "import cv2\n",
    "import glob\n",
    "\n",
    "warping_field_path = 'outputs/warping_fields/'\n",
    "frame_path = '../default_input_video/'\n",
    "temp_frames_path = ''\n"
   ]
  },
  {
   "cell_type": "code",
   "execution_count": null,
   "metadata": {},
   "outputs": [],
   "source": [
    "if torch.cuda.is_available(): \n",
    "    print(\"Using GPU!\")\n",
    "    dev = \"cuda:0\" \n",
    "else:  \n",
    "    print(\"Using CPU!\")\n",
    "    dev = \"cpu\"  \n",
    "device = torch.device(dev)  "
   ]
  },
  {
   "cell_type": "markdown",
   "metadata": {},
   "source": [
    "## Load the frames"
   ]
  },
  {
   "cell_type": "code",
   "execution_count": null,
   "metadata": {},
   "outputs": [],
   "source": [
    "frame_names = sorted(glob.glob(frame_path + \"*.png\"))\n",
    "frame_count = len(frame_names)\n",
    "print('number of frames:', frame_count)"
   ]
  },
  {
   "cell_type": "code",
   "execution_count": null,
   "metadata": {},
   "outputs": [],
   "source": [
    "def readFrame(path):\n",
    "    frame = torch.tensor(cv2.imread(path))\n",
    "    frame = torch.stack([frame[:,:,2], frame[:,:,1], frame[:,:,0]], dim=2)\n",
    "    return frame"
   ]
  },
  {
   "cell_type": "code",
   "execution_count": null,
   "metadata": {},
   "outputs": [],
   "source": [
    "# Now get the dimensions of the frames\n",
    "sample_frame = readFrame(frame_names[0])\n",
    "frame_size = sample_frame.shape\n",
    "print('frame size:', frame_size)\n",
    "\n",
    "# Show the sample frame\n",
    "plt.imshow(sample_frame)\n",
    "plt.show()\n",
    "\n",
    "# Produce values that will be used later\n",
    "frame_width = frame_size[1]\n",
    "frame_height = frame_size[0]"
   ]
  },
  {
   "cell_type": "code",
   "execution_count": null,
   "metadata": {},
   "outputs": [],
   "source": []
  },
  {
   "cell_type": "markdown",
   "metadata": {},
   "source": [
    "## Optaining Warping Field from [Yu and Ramamorthi]\n",
    "The field is optained from another program included in the repository. "
   ]
  },
  {
   "cell_type": "code",
   "execution_count": null,
   "metadata": {},
   "outputs": [],
   "source": [
    "def plot_optical_flow(flow, stride):\n",
    "    subsampled = np.zeros(np.array(flow.shape[:2]) // stride)\n",
    "    subsampled = np.reshape([subsampled, subsampled], [subsampled.shape[0], subsampled.shape[1], 2])\n",
    "#     print(subsampled.shape)\n",
    "\n",
    "    for i in range(subsampled.shape[0]):\n",
    "        for j in range(subsampled.shape[1]):\n",
    "            subsampled[i, j] = flow[i * stride, j * stride]\n",
    "\n",
    "    plt.quiver(subsampled[:,:,0], subsampled[:,:,1])\n",
    "    plt.show()"
   ]
  },
  {
   "cell_type": "code",
   "execution_count": null,
   "metadata": {},
   "outputs": [],
   "source": [
    "def homography_to_flow(H, size):\n",
    "    # Create a meshgrid to transform\n",
    "    x = np.linspace(0, size[1] - 1, size[1])\n",
    "    y = np.linspace(0, size[0] - 1, size[0])\n",
    "    xv, yv = np.meshgrid(x, y)\n",
    "    \n",
    "    # Calculate the x, y, and w of each point\n",
    "    w_new = xv * H[2, 0] + yv * H[2, 1] + H[2, 2]\n",
    "    x_new = xv * H[0, 0] + yv * H[0, 1] + H[0, 2]\n",
    "    y_new = xv * H[1, 0] + yv * H[1, 1] + H[1, 2]\n",
    "    \n",
    "    x_new = x_new / w_new\n",
    "    y_new = y_new / w_new\n",
    "    x_offset = x_new - xv\n",
    "    y_offset = y_new - yv\n",
    "    flow = np.dstack([x_offset, y_offset])\n",
    "    return flow\n",
    "\n",
    "def resample_flow(flow, new_shape):\n",
    "    print(new_shape)\n",
    "    print(flow.shape)\n",
    "    flow = torch.from_numpy(flow)\n",
    "    flow = flow.permute(2, 0, 1).unsqueeze(0)\n",
    "    print(flow.shape)\n",
    "    new_flow = F.interpolate(flow, new_shape, mode='bilinear')\n",
    "    print(new_flow.shape)\n",
    "    return_val = new_flow[0].permute(1, 2, 0)\n",
    "    print(return_val.shape)\n",
    "    return return_val\n",
    "    "
   ]
  },
  {
   "cell_type": "code",
   "execution_count": null,
   "metadata": {},
   "outputs": [],
   "source": [
    "# Find the path to all the H_inv and warping fields\n",
    "path = 'outputs/warping_fields/'\n",
    "\n",
    "# \n",
    "# Load the warping field of a given frame idx\n",
    "#\n",
    "def load_warping_field(index):\n",
    "    # Make sure we have the index\n",
    "    assert index >= 0 and index < frame_count\n",
    "    \n",
    "    # Initialize the variables\n",
    "    H_inv = None\n",
    "    flow = None\n",
    "    \n",
    "    # Special treatment for frame 0\n",
    "    flow_shape = np.array([576, 960, 2]) # As generated by other code\n",
    "    if index == 0:\n",
    "        H_inv = np.eye(3)\n",
    "        flow = np.zeros(flow_shape) # Why are we using 448 + 2 * 64?\n",
    "    else:\n",
    "        H_inv_path = path + str(index).zfill(5) + '_H_inv.npy'\n",
    "        H_inv = np.load(H_inv_path)\n",
    "\n",
    "        flow_path = path + str(index).zfill(5) + '.npy'\n",
    "        flow = np.load(flow_path)\n",
    "        \n",
    "        # Convert optical flow space from [-1, 1] to [0, width/height]\n",
    "        flow[:, :, 0] *= float(flow_shape[0]) / 2\n",
    "        flow[:, :, 1] *= float(flow_shape[1]) / 2\n",
    "        \n",
    "    # Combine the optical flow and the homography\n",
    "    H_flow = homography_to_flow(H_inv, flow_shape)\n",
    "    combined_flow = H_flow + flow\n",
    "        \n",
    "    # Resample the optical flow to frame space\n",
    "    # There's 64 paddings around the edge\n",
    "    padding = 64\n",
    "    frame_flow = resample_flow(combined_flow[padding:-padding, padding:-padding], frame_size[:2])\n",
    "    plot_optical_flow(combined_flow, 30)\n",
    "    plot_optical_flow(frame_flow, 30)\n",
    "    \n",
    "    return frame_flow\n",
    "\n",
    "\n",
    "flow = load_warping_field(3)"
   ]
  },
  {
   "cell_type": "code",
   "execution_count": null,
   "metadata": {},
   "outputs": [],
   "source": [
    "iterator = sorted(glob.glob(warping_field_path + '*.npy'))\n",
    "for path in iterator:\n",
    "    print(path)\n",
    "\n"
   ]
  },
  {
   "cell_type": "markdown",
   "metadata": {},
   "source": [
    "## Use RAFT for optical flow"
   ]
  },
  {
   "cell_type": "code",
   "execution_count": null,
   "metadata": {},
   "outputs": [],
   "source": []
  }
 ],
 "metadata": {
  "kernelspec": {
   "display_name": "staProj",
   "language": "python",
   "name": "staproj"
  },
  "language_info": {
   "codemirror_mode": {
    "name": "ipython",
    "version": 3
   },
   "file_extension": ".py",
   "mimetype": "text/x-python",
   "name": "python",
   "nbconvert_exporter": "python",
   "pygments_lexer": "ipython3",
   "version": "3.6.13"
  }
 },
 "nbformat": 4,
 "nbformat_minor": 4
}
